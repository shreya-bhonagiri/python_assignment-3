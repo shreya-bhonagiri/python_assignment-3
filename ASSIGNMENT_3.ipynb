{
  "nbformat": 4,
  "nbformat_minor": 0,
  "metadata": {
    "colab": {
      "name": "ASSIGNMENT-3",
      "provenance": [],
      "authorship_tag": "ABX9TyObZeLveq9Fpm7V8lJ5kHBM",
      "include_colab_link": true
    },
    "kernelspec": {
      "name": "python3",
      "display_name": "Python 3"
    }
  },
  "cells": [
    {
      "cell_type": "markdown",
      "metadata": {
        "id": "view-in-github",
        "colab_type": "text"
      },
      "source": [
        "<a href=\"https://colab.research.google.com/github/shreya-bhonagiri/python_assignment-3/blob/master/ASSIGNMENT_3.ipynb\" target=\"_parent\"><img src=\"https://colab.research.google.com/assets/colab-badge.svg\" alt=\"Open In Colab\"/></a>"
      ]
    },
    {
      "cell_type": "code",
      "metadata": {
        "id": "dMt681qXQ-jb",
        "colab_type": "code",
        "colab": {
          "base_uri": "https://localhost:8080/",
          "height": 84
        },
        "outputId": "220eb25d-235f-4770-965d-5d17c0e00241"
      },
      "source": [
        "#1Q:AREA OF TRIANGLE....\n",
        "x=int(input(\"Enter first side of triangle : \"))\n",
        "y=int(input(\"Enter second side of triangle : \"))\n",
        "z=int(input(\"Enter third side of triangle : \"))\n",
        "s = (x + y + z) / 2\n",
        "Area = (s*(s-x)*(s-y)*(s-z))**0.5\n",
        "print(\"Area of the triangle is \",Area)"
      ],
      "execution_count": null,
      "outputs": [
        {
          "output_type": "stream",
          "text": [
            "Enter first side of triangle : 5\n",
            "Enter second side of triangle : 5\n",
            "Enter third side of triangle : 5\n",
            "Area of the triangle is  10.825317547305483\n"
          ],
          "name": "stdout"
        }
      ]
    },
    {
      "cell_type": "code",
      "metadata": {
        "id": "HEBZwUBqUVz6",
        "colab_type": "code",
        "colab": {
          "base_uri": "https://localhost:8080/",
          "height": 50
        },
        "outputId": "964d4ef1-e8ff-4dda-fbe9-9dd48ff4a536"
      },
      "source": [
        "#Q2:STRING PALINDROME....\n",
        "strg=input(\"Enter a string:\")\n",
        "if(strg==strg[::-1]):\n",
        "  print(strg,\"palindrome\")\n",
        "else:\n",
        "  print(strg,\"not palindrome\")"
      ],
      "execution_count": null,
      "outputs": [
        {
          "output_type": "stream",
          "text": [
            "Enter a string:vikatakiv\n",
            "vikatakiv palindrome\n"
          ],
          "name": "stdout"
        }
      ]
    },
    {
      "cell_type": "code",
      "metadata": {
        "id": "zJwIV1XQV09f",
        "colab_type": "code",
        "colab": {
          "base_uri": "https://localhost:8080/",
          "height": 50
        },
        "outputId": "2db9f534-8894-43a7-a67b-f9659c0b462c"
      },
      "source": [
        "#3Q:LEAP YEAR...\n",
        "Year=int(input(\"please enter the year :\"))\n",
        "if Year%400==0:\n",
        "  print(Year,\"LEAP YEAR...\")\n",
        "elif Year%100==0:\n",
        "  print(Year,\"NOT LEAP YEAR....\")\n",
        "elif Year%4==0:\n",
        "  print(Year,\"LEAP YEAR...\")\n",
        "else :\n",
        "  print(Year,\"NOT LEAP YEAR...\")"
      ],
      "execution_count": null,
      "outputs": [
        {
          "output_type": "stream",
          "text": [
            "please enter the year :6060\n",
            "6060 LEAP YEAR...\n"
          ],
          "name": "stdout"
        }
      ]
    },
    {
      "cell_type": "code",
      "metadata": {
        "id": "0FBg-C4qXt7D",
        "colab_type": "code",
        "colab": {
          "base_uri": "https://localhost:8080/",
          "height": 50
        },
        "outputId": "53663584-da40-4cd0-a684-141940fd8079"
      },
      "source": [
        "#4Q:SPACE TO HYPHEN....\n",
        "string1=input(\"Please Enter the string : \")\n",
        "string2=string1.replace(' ','-')\n",
        "print(string2)"
      ],
      "execution_count": 3,
      "outputs": [
        {
          "output_type": "stream",
          "text": [
            "Please Enter the string : s h r e y a b h o n a g i r i \n",
            "s-h-r-e-y-a-b-h-o-n-a-g-i-r-i-\n"
          ],
          "name": "stdout"
        }
      ]
    },
    {
      "cell_type": "code",
      "metadata": {
        "id": "42nJ0wXSYHpT",
        "colab_type": "code",
        "colab": {
          "base_uri": "https://localhost:8080/",
          "height": 50
        },
        "outputId": "731da448-2412-4b95-ee8f-899d0a3ecace"
      },
      "source": [
        "#Q5:UNIQUE SORT PROBLEM....\n",
        "def rearrange(str):\n",
        "  str_list=str.split(',')\n",
        "  str_set=set(str_list)\n",
        "  str_list=list(str_set)\n",
        "  str_list.sort()\n",
        "  str=','.join(str_list)\n",
        "  return str\n",
        "str=input(\"Enter the string:\")\n",
        "print(rearrange(str))"
      ],
      "execution_count": 4,
      "outputs": [
        {
          "output_type": "stream",
          "text": [
            "Enter the string:carrot,allu,brinjal,ladies finger,potato\n",
            "allu,brinjal,carrot,ladies finger,potato\n"
          ],
          "name": "stdout"
        }
      ]
    },
    {
      "cell_type": "code",
      "metadata": {
        "id": "s-FdqfYSgSA5",
        "colab_type": "code",
        "colab": {
          "base_uri": "https://localhost:8080/",
          "height": 50
        },
        "outputId": "d66ced77-c776-412b-df85-d1472a08f32a"
      },
      "source": [
        "#Q6:TAX CALUCULATOR.....\n",
        "income=int(input(\"Enter the salary: \",))\n",
        "if income<=250000 :\n",
        "  print(\"Tax to be paid is NILL!\")\n",
        "elif 250001<=income<=500000 :\n",
        "  a=income*5//100\n",
        "  print(\"Tax to be paid is RS:\",a)\n",
        "elif 500001<=income<=750000 :\n",
        "  a=income*10//100\n",
        "  print(\"Tax to be paid is RS:\",a)\n",
        "elif 750001<=income<=1000000 :\n",
        "  a=income*15//100\n",
        "  print(\"Tax to be paid is RS:\",a)\n",
        "elif 1000001<=income<=1250000 :\n",
        "  a=income*20//100\n",
        "  print(\"Tax to be paid is RS:\",a)\n",
        "elif 1250001<=income<=1500000 :\n",
        "  a=income*25//100\n",
        "  print(\"Tax to be paid is RS:\",a)\n",
        "else :\n",
        "  a=income*30//100\n",
        "  print(\"Tax to be paid is RS:\",a)\n"
      ],
      "execution_count": 18,
      "outputs": [
        {
          "output_type": "stream",
          "text": [
            "Enter the salary: 750000\n",
            "Tax to be paid is RS: 75000\n"
          ],
          "name": "stdout"
        }
      ]
    },
    {
      "cell_type": "code",
      "metadata": {
        "id": "BZIh7Rr-mgqk",
        "colab_type": "code",
        "colab": {
          "base_uri": "https://localhost:8080/",
          "height": 34
        },
        "outputId": "d85fff41-a101-40ad-912c-5d026f4ad0ba"
      },
      "source": [
        "#7Q:LIST CONVERTS INTO SINGLE ARGUEMENT.....\n",
        "list=[11,22,33,44,55]\n",
        "for s in list :\n",
        "  print(s,end=\"\")"
      ],
      "execution_count": 32,
      "outputs": [
        {
          "output_type": "stream",
          "text": [
            "1122334455"
          ],
          "name": "stdout"
        }
      ]
    },
    {
      "cell_type": "code",
      "metadata": {
        "id": "0jqcMCJRxAw2",
        "colab_type": "code",
        "colab": {
          "base_uri": "https://localhost:8080/",
          "height": 118
        },
        "outputId": "28af3726-f6f1-4e73-87f1-1df19f34c8ba"
      },
      "source": [
        "#8Q:UNITS OF TIME....\n",
        "print(\"ENTER THE TIME DURATION:\")\n",
        "days=int(input(\"Enter the number of days:\"))\n",
        "d=days*24*60*60\n",
        "hours=int(input(\"Enter the number of hours:\"))\n",
        "h=hours*60*60\n",
        "min=int(input(\"Enter the number of minutes:\"))\n",
        "m=min*60\n",
        "sec=int(input(\"Enter the number of seconds:\"))\n",
        "total_sec=d+h+m+sec\n",
        "print(\"Total no of seconds:\",total_sec)\n",
        "\n",
        "\n"
      ],
      "execution_count": 33,
      "outputs": [
        {
          "output_type": "stream",
          "text": [
            "ENTER THE TIME DURATION:\n",
            "Enter the number of days:5\n",
            "Enter the number of hours:5\n",
            "Enter the number of minutes:5\n",
            "Enter the number of seconds:5\n",
            "Total no of seconds: 450305\n"
          ],
          "name": "stdout"
        }
      ]
    },
    {
      "cell_type": "code",
      "metadata": {
        "id": "Sj5a0ZFijhHg",
        "colab_type": "code",
        "colab": {
          "base_uri": "https://localhost:8080/",
          "height": 279
        },
        "outputId": "74f6160a-333a-4832-ac4c-a8e86b37285b"
      },
      "source": [
        "#9Q:SORT 3 INTEGERS......\n",
        "a=(input(\"Enter the first numbe:\"))\n",
        "b=(input(\"Enter the second number:\"))\n",
        "c=(input(\"Enter the third number:\"))\n",
        "s=[a,b,c]\n",
        "h=max(a,b,c)\n",
        "m=min(a,b,c)\n",
        "x=s[0]+s[1]+s[2]-h-m \n",
        "print(h,x,m)"
      ],
      "execution_count": 77,
      "outputs": [
        {
          "output_type": "stream",
          "text": [
            "Enter the first numbe:5\n",
            "Enter the second number:4\n",
            "Enter the third number:6\n"
          ],
          "name": "stdout"
        },
        {
          "output_type": "error",
          "ename": "TypeError",
          "evalue": "ignored",
          "traceback": [
            "\u001b[0;31m---------------------------------------------------------------------------\u001b[0m",
            "\u001b[0;31mTypeError\u001b[0m                                 Traceback (most recent call last)",
            "\u001b[0;32m<ipython-input-77-8a53b58ca021>\u001b[0m in \u001b[0;36m<module>\u001b[0;34m()\u001b[0m\n\u001b[1;32m      5\u001b[0m \u001b[0ms\u001b[0m\u001b[0;34m=\u001b[0m\u001b[0;34m[\u001b[0m\u001b[0ma\u001b[0m\u001b[0;34m,\u001b[0m\u001b[0mb\u001b[0m\u001b[0;34m,\u001b[0m\u001b[0mc\u001b[0m\u001b[0;34m]\u001b[0m\u001b[0;34m\u001b[0m\u001b[0;34m\u001b[0m\u001b[0m\n\u001b[1;32m      6\u001b[0m \u001b[0mh\u001b[0m\u001b[0;34m=\u001b[0m\u001b[0mmax\u001b[0m\u001b[0;34m(\u001b[0m\u001b[0ma\u001b[0m\u001b[0;34m,\u001b[0m\u001b[0mb\u001b[0m\u001b[0;34m,\u001b[0m\u001b[0mc\u001b[0m\u001b[0;34m)\u001b[0m\u001b[0;34m\u001b[0m\u001b[0;34m\u001b[0m\u001b[0m\n\u001b[0;32m----> 7\u001b[0;31m \u001b[0mm\u001b[0m\u001b[0;34m=\u001b[0m\u001b[0mmin\u001b[0m\u001b[0;34m(\u001b[0m\u001b[0ma\u001b[0m\u001b[0;34m,\u001b[0m\u001b[0mb\u001b[0m\u001b[0;34m,\u001b[0m\u001b[0mc\u001b[0m\u001b[0;34m)\u001b[0m\u001b[0;34m\u001b[0m\u001b[0;34m\u001b[0m\u001b[0m\n\u001b[0m\u001b[1;32m      8\u001b[0m \u001b[0mx\u001b[0m\u001b[0;34m=\u001b[0m\u001b[0ms\u001b[0m\u001b[0;34m[\u001b[0m\u001b[0;36m0\u001b[0m\u001b[0;34m]\u001b[0m\u001b[0;34m+\u001b[0m\u001b[0ms\u001b[0m\u001b[0;34m[\u001b[0m\u001b[0;36m1\u001b[0m\u001b[0;34m]\u001b[0m\u001b[0;34m+\u001b[0m\u001b[0ms\u001b[0m\u001b[0;34m[\u001b[0m\u001b[0;36m2\u001b[0m\u001b[0;34m]\u001b[0m\u001b[0;34m-\u001b[0m\u001b[0mh\u001b[0m\u001b[0;34m-\u001b[0m\u001b[0mm\u001b[0m\u001b[0;34m\u001b[0m\u001b[0;34m\u001b[0m\u001b[0m\n\u001b[1;32m      9\u001b[0m \u001b[0mprint\u001b[0m\u001b[0;34m(\u001b[0m\u001b[0mh\u001b[0m\u001b[0;34m,\u001b[0m\u001b[0mx\u001b[0m\u001b[0;34m,\u001b[0m\u001b[0mm\u001b[0m\u001b[0;34m)\u001b[0m\u001b[0;34m\u001b[0m\u001b[0;34m\u001b[0m\u001b[0m\n",
            "\u001b[0;31mTypeError\u001b[0m: 'int' object is not callable"
          ]
        }
      ]
    },
    {
      "cell_type": "code",
      "metadata": {
        "id": "XvLiItbfv1_G",
        "colab_type": "code",
        "colab": {
          "base_uri": "https://localhost:8080/",
          "height": 84
        },
        "outputId": "bf9c72e4-26c3-450b-880d-0b9d8340c673"
      },
      "source": [
        "#10Q:DATE,MONTH AND YEAR.....\n",
        "year=int(input(\"Enter the year : \"))\n",
        "month=int(input(\"Enter the month : \"))\n",
        "day=int(input(\"Enter the day : \"))\n",
        "if year%4==0:\n",
        "  leap_year=True\n",
        "else:\n",
        "  leap_year=False\n",
        "if month==2:\n",
        "  if leap_year:\n",
        "    days==29\n",
        "  else :\n",
        "    days==28\n",
        "elif month in (1,3,5,7,8,10,12):\n",
        "   days=31\n",
        "else:\n",
        "  days=30\n",
        "if day<days:\n",
        "  day=day+1\n",
        "else:\n",
        "  day=1\n",
        "print(f\"[YYY-MM-DD]:{year}-{month}-{day}\")"
      ],
      "execution_count": 49,
      "outputs": [
        {
          "output_type": "stream",
          "text": [
            "Enter the year : 2020\n",
            "Enter the month : 02\n",
            "Enter the day : 14\n",
            "[YYY-MM-DD]:2020-2-1\n"
          ],
          "name": "stdout"
        }
      ]
    },
    {
      "cell_type": "code",
      "metadata": {
        "id": "QbL5_x5K10LB",
        "colab_type": "code",
        "colab": {
          "base_uri": "https://localhost:8080/",
          "height": 34
        },
        "outputId": "3369a9a9-c9cf-406e-d2b8-9536f55278e9"
      },
      "source": [
        "#11Q:product of list...\n",
        "list=[45,3,2,89,72,1,10,7]\n",
        "def prod(list):\n",
        "  p=1\n",
        "  for n in list:\n",
        "    p*=n\n",
        "  return p\n",
        "print(prod(list))"
      ],
      "execution_count": 52,
      "outputs": [
        {
          "output_type": "stream",
          "text": [
            "121111200\n"
          ],
          "name": "stdout"
        }
      ]
    },
    {
      "cell_type": "code",
      "metadata": {
        "id": "YuXM-gl83Myx",
        "colab_type": "code",
        "colab": {
          "base_uri": "https://localhost:8080/",
          "height": 34
        },
        "outputId": "f3626ca3-06e1-42da-f934-a41bbd168e62"
      },
      "source": [
        "#12Q:sum of list...\n",
        "def nUm_list(a,b,c,d,e,f):\n",
        "  return a+b,b+c,c+d,d+e,e+f\n",
        "nUm_list(5,6,8,34,89,1)"
      ],
      "execution_count": 53,
      "outputs": [
        {
          "output_type": "execute_result",
          "data": {
            "text/plain": [
              "(11, 14, 42, 123, 90)"
            ]
          },
          "metadata": {
            "tags": []
          },
          "execution_count": 53
        }
      ]
    },
    {
      "cell_type": "code",
      "metadata": {
        "id": "eG3ox8eD2fcb",
        "colab_type": "code",
        "colab": {
          "base_uri": "https://localhost:8080/",
          "height": 34
        },
        "outputId": "646037be-c848-4c2f-d234-e925c313768d"
      },
      "source": [
        "#13Q:number tuple...\n",
        "def num_list(a,b,c,d,e,f):\n",
        "  return a,a*b,a*b*c,a*b*c*d,a*b*c*d*e,a*b*c*d*e*f\n",
        "num_list(5,6,8,3,9,1)"
      ],
      "execution_count": 54,
      "outputs": [
        {
          "output_type": "execute_result",
          "data": {
            "text/plain": [
              "(5, 30, 240, 720, 6480, 6480)"
            ]
          },
          "metadata": {
            "tags": []
          },
          "execution_count": 54
        }
      ]
    },
    {
      "cell_type": "code",
      "metadata": {
        "id": "n8t3tqFa4iUh",
        "colab_type": "code",
        "colab": {
          "base_uri": "https://localhost:8080/",
          "height": 50
        },
        "outputId": "105b2692-ff6d-4e62-e960-b14a858e475d"
      },
      "source": [
        "#14Q:code of digits....\n",
        "m=int(input(\"Enter the number\"))\n",
        "returnlist=[]\n",
        "n=0\n",
        "while m>0:\n",
        "      x=m%10\n",
        "      m=int(m/10)\n",
        "      n=n*10+x\n",
        "while n>0:\n",
        "      x=n%10\n",
        "      n=int(n/10)\n",
        "      returnlist.append(x)\n",
        "print(returnlist)"
      ],
      "execution_count": 58,
      "outputs": [
        {
          "output_type": "stream",
          "text": [
            "Enter the number534644\n",
            "[5, 3, 4, 6, 4, 4]\n"
          ],
          "name": "stdout"
        }
      ]
    },
    {
      "cell_type": "code",
      "metadata": {
        "id": "XjzV2Kvj6uj0",
        "colab_type": "code",
        "colab": {
          "base_uri": "https://localhost:8080/",
          "height": 50
        },
        "outputId": "159673ec-49d3-4526-b94a-bbd57c309c5d"
      },
      "source": [
        "#15Q:palindrome....\n",
        "s=input(\"Enter a palindrome:\")\n",
        "def palindrome(s):\n",
        "  pal1=1\n",
        "  pal2=0\n",
        "  for n in range(0,len(s)):\n",
        "    for m in range(n+1,len(s)):\n",
        "        if s[n:m]==s[m:n:-1]:\n",
        "         if len(s[n:m])>pal1:\n",
        "          pal1=len(s[n:m])\n",
        "          pals=(s[n:m+1])\n",
        "          pal2=1\n",
        "  if pal2:\n",
        "    return pals\n",
        "  else:\n",
        "    return \"STRING IS NOT PALINDROME\"\n",
        "print(palindrome(s))"
      ],
      "execution_count": 80,
      "outputs": [
        {
          "output_type": "stream",
          "text": [
            "Enter a palindrome:madam\n",
            "madam\n"
          ],
          "name": "stdout"
        }
      ]
    },
    {
      "cell_type": "code",
      "metadata": {
        "id": "2QS1wiQH-Ipk",
        "colab_type": "code",
        "colab": {
          "base_uri": "https://localhost:8080/",
          "height": 67
        },
        "outputId": "6d98768c-bcd7-431a-8a05-38cba6d5fead"
      },
      "source": [
        "#16Q:substring check.....\n",
        "a=input(\"Enter the binary no.of length 5:\")\n",
        "b=input(\"Enter the binary no.of length10:\")\n",
        "if a[:] in b[:]:\n",
        "  print(1)\n",
        "else:\n",
        "  print(0)"
      ],
      "execution_count": 81,
      "outputs": [
        {
          "output_type": "stream",
          "text": [
            "Enter the binary no.of length 5:10110\n",
            "Enter the binary no.of length10:1010110010\n",
            "1\n"
          ],
          "name": "stdout"
        }
      ]
    },
    {
      "cell_type": "code",
      "metadata": {
        "id": "3fBm9hCIC05C",
        "colab_type": "code",
        "colab": {}
      },
      "source": [
        "#17Q:POUR WATER.....\n",
        "def water(a,b,c):\n",
        "  ves_a=a\n",
        "  ves_b=b\n",
        "  h=1\n",
        "  while ves_a!=c and ves_b!=c:\n",
        "    if ves_b==b:\n",
        "      ves_b=0\n",
        "      h=h+1\n",
        "    elif ves_a==a:\n",
        "      ves_a=a\n",
        "      h=h+1\n",
        "    else:\n",
        "      x=min(a,b)\n",
        "      ves_a=ves_a-x\n",
        "      ves_b=ves_b+x\n",
        "      h=h+1\n",
        "  return h\n",
        "  t=int(input(\"Enter no.of test cases:\"))\n",
        "  for i in range(t):\n",
        "    a=int(input(\"Enter a liters:\"))\n",
        "    b=int(input(\"Enter b liters:\"))\n",
        "    c=int(input(\"Enter c liters:\"))\n",
        "    if (c>max(a,b)):\n",
        "      print(-1)\n",
        "    else:\n",
        "      g=water(a,b,c)\n",
        "      print(g)"
      ],
      "execution_count": 85,
      "outputs": []
    }
  ]
}